{
 "cells": [
  {
   "cell_type": "code",
   "execution_count": 6,
   "id": "1006a12a",
   "metadata": {},
   "outputs": [
    {
     "data": {
      "text/html": [
       "<div>\n",
       "<style scoped>\n",
       "    .dataframe tbody tr th:only-of-type {\n",
       "        vertical-align: middle;\n",
       "    }\n",
       "\n",
       "    .dataframe tbody tr th {\n",
       "        vertical-align: top;\n",
       "    }\n",
       "\n",
       "    .dataframe thead th {\n",
       "        text-align: right;\n",
       "    }\n",
       "</style>\n",
       "<table border=\"1\" class=\"dataframe\">\n",
       "  <thead>\n",
       "    <tr style=\"text-align: right;\">\n",
       "      <th></th>\n",
       "      <th>user_id</th>\n",
       "      <th>current_folder_id</th>\n",
       "    </tr>\n",
       "  </thead>\n",
       "  <tbody>\n",
       "    <tr>\n",
       "      <th>0</th>\n",
       "      <td>2113212877</td>\n",
       "      <td>1</td>\n",
       "    </tr>\n",
       "  </tbody>\n",
       "</table>\n",
       "</div>"
      ],
      "text/plain": [
       "      user_id  current_folder_id\n",
       "0  2113212877                  1"
      ]
     },
     "execution_count": 6,
     "metadata": {},
     "output_type": "execute_result"
    }
   ],
   "source": [
    "import pandas as pd\n",
    "usrs = pd.read_csv('user_data.csv')\n",
    "\n",
    "usrid = 146\n",
    "\n",
    "usrs"
   ]
  },
  {
   "cell_type": "code",
   "execution_count": 22,
   "id": "02b174da",
   "metadata": {},
   "outputs": [
    {
     "name": "stdout",
     "output_type": "stream",
     "text": [
      "2\n"
     ]
    }
   ],
   "source": [
    "last_dir_of_user = usrs.loc[usrs['user_id'] == usrid, 'current_folder_id']\n",
    "\n",
    "\n",
    "last_directory = last_dir_of_user.values[0] \n",
    "print(last_directory)"
   ]
  },
  {
   "cell_type": "code",
   "execution_count": 7,
   "id": "7e25b4cf",
   "metadata": {},
   "outputs": [
    {
     "data": {
      "text/html": [
       "<div>\n",
       "<style scoped>\n",
       "    .dataframe tbody tr th:only-of-type {\n",
       "        vertical-align: middle;\n",
       "    }\n",
       "\n",
       "    .dataframe tbody tr th {\n",
       "        vertical-align: top;\n",
       "    }\n",
       "\n",
       "    .dataframe thead th {\n",
       "        text-align: right;\n",
       "    }\n",
       "</style>\n",
       "<table border=\"1\" class=\"dataframe\">\n",
       "  <thead>\n",
       "    <tr style=\"text-align: right;\">\n",
       "      <th></th>\n",
       "      <th>message_id</th>\n",
       "      <th>user_id</th>\n",
       "      <th>folder_id</th>\n",
       "    </tr>\n",
       "  </thead>\n",
       "  <tbody>\n",
       "  </tbody>\n",
       "</table>\n",
       "</div>"
      ],
      "text/plain": [
       "Empty DataFrame\n",
       "Columns: [message_id, user_id, folder_id]\n",
       "Index: []"
      ]
     },
     "execution_count": 7,
     "metadata": {},
     "output_type": "execute_result"
    }
   ],
   "source": [
    "msg_df = pd.read_csv('saved_messages_data.csv')\n",
    "folders_df = pd.read_csv('folders.csv')\n",
    "\n",
    "saved_msgs = msg_df.loc[msg_df['user_id'] == usrid]\n",
    "folders = folders_df.loc[folders_df['user_id'] == usrid]\n",
    "\n",
    "saved_msgs"
   ]
  },
  {
   "cell_type": "code",
   "execution_count": 32,
   "id": "b70999c5",
   "metadata": {},
   "outputs": [
    {
     "data": {
      "text/html": [
       "<div>\n",
       "<style scoped>\n",
       "    .dataframe tbody tr th:only-of-type {\n",
       "        vertical-align: middle;\n",
       "    }\n",
       "\n",
       "    .dataframe tbody tr th {\n",
       "        vertical-align: top;\n",
       "    }\n",
       "\n",
       "    .dataframe thead th {\n",
       "        text-align: right;\n",
       "    }\n",
       "</style>\n",
       "<table border=\"1\" class=\"dataframe\">\n",
       "  <thead>\n",
       "    <tr style=\"text-align: right;\">\n",
       "      <th></th>\n",
       "      <th>user_id</th>\n",
       "      <th>folder_id</th>\n",
       "      <th>folder_name</th>\n",
       "      <th>superfolder_id</th>\n",
       "    </tr>\n",
       "  </thead>\n",
       "  <tbody>\n",
       "    <tr>\n",
       "      <th>0</th>\n",
       "      <td>146</td>\n",
       "      <td>0</td>\n",
       "      <td>main</td>\n",
       "      <td>NaN</td>\n",
       "    </tr>\n",
       "    <tr>\n",
       "      <th>1</th>\n",
       "      <td>145</td>\n",
       "      <td>0</td>\n",
       "      <td>user space</td>\n",
       "      <td>NaN</td>\n",
       "    </tr>\n",
       "    <tr>\n",
       "      <th>2</th>\n",
       "      <td>145</td>\n",
       "      <td>1</td>\n",
       "      <td>sub1</td>\n",
       "      <td>0.0</td>\n",
       "    </tr>\n",
       "    <tr>\n",
       "      <th>3</th>\n",
       "      <td>145</td>\n",
       "      <td>2</td>\n",
       "      <td>sub2</td>\n",
       "      <td>0.0</td>\n",
       "    </tr>\n",
       "    <tr>\n",
       "      <th>4</th>\n",
       "      <td>146</td>\n",
       "      <td>1</td>\n",
       "      <td>1461mm</td>\n",
       "      <td>2.0</td>\n",
       "    </tr>\n",
       "    <tr>\n",
       "      <th>5</th>\n",
       "      <td>146</td>\n",
       "      <td>2</td>\n",
       "      <td>1462ss</td>\n",
       "      <td>0.0</td>\n",
       "    </tr>\n",
       "    <tr>\n",
       "      <th>6</th>\n",
       "      <td>146</td>\n",
       "      <td>3</td>\n",
       "      <td>hi im 3</td>\n",
       "      <td>2.0</td>\n",
       "    </tr>\n",
       "    <tr>\n",
       "      <th>7</th>\n",
       "      <td>2113212877</td>\n",
       "      <td>0</td>\n",
       "      <td>main</td>\n",
       "      <td>NaN</td>\n",
       "    </tr>\n",
       "    <tr>\n",
       "      <th>8</th>\n",
       "      <td>2113212877</td>\n",
       "      <td>1</td>\n",
       "      <td>sub1</td>\n",
       "      <td>0.0</td>\n",
       "    </tr>\n",
       "    <tr>\n",
       "      <th>9</th>\n",
       "      <td>2113212877</td>\n",
       "      <td>2</td>\n",
       "      <td>sub1</td>\n",
       "      <td>1.0</td>\n",
       "    </tr>\n",
       "  </tbody>\n",
       "</table>\n",
       "</div>"
      ],
      "text/plain": [
       "      user_id  folder_id folder_name  superfolder_id\n",
       "0         146          0        main             NaN\n",
       "1         145          0  user space             NaN\n",
       "2         145          1        sub1             0.0\n",
       "3         145          2        sub2             0.0\n",
       "4         146          1      1461mm             2.0\n",
       "5         146          2      1462ss             0.0\n",
       "6         146          3     hi im 3             2.0\n",
       "7  2113212877          0        main             NaN\n",
       "8  2113212877          1        sub1             0.0\n",
       "9  2113212877          2        sub1             1.0"
      ]
     },
     "execution_count": 32,
     "metadata": {},
     "output_type": "execute_result"
    }
   ],
   "source": [
    "folders_df.head(20)"
   ]
  },
  {
   "cell_type": "code",
   "execution_count": 29,
   "id": "f1c09171",
   "metadata": {},
   "outputs": [
    {
     "name": "stdout",
     "output_type": "stream",
     "text": [
      "333\n"
     ]
    }
   ],
   "source": [
    "folder_content_id = list(saved_msgs.loc[saved_msgs['folder_id'] == last_directory]['message_id'])\n",
    "folder_content_id\n",
    "\n",
    "for i in folder_content_id:\n",
    "    print(i)"
   ]
  },
  {
   "cell_type": "code",
   "execution_count": 30,
   "id": "b8fe9a09",
   "metadata": {},
   "outputs": [
    {
     "name": "stdout",
     "output_type": "stream",
     "text": [
      "1461mm\n",
      "hi im 3\n"
     ]
    }
   ],
   "source": [
    "subfolders = list(folders.loc[folders['superfolder_id'] == last_directory]['folder_id'])\n",
    "\n",
    "subfolders\n",
    "for i in subfolders:\n",
    "    folder_name = folders.loc[folders['folder_id'] == i, 'folder_name'].values[0]\n",
    "    print(folder_name)"
   ]
  },
  {
   "cell_type": "code",
   "execution_count": 70,
   "id": "df58a378",
   "metadata": {},
   "outputs": [
    {
     "name": "stdout",
     "output_type": "stream",
     "text": [
      "      user_id  folder_id folder_name  superfolder_id\n",
      "9  2113212877          2        sub1             1.0\n",
      "\n",
      "\n",
      "2\n"
     ]
    }
   ],
   "source": [
    "folders_df = pd.read_csv('folders.csv')\n",
    "\n",
    "df = folders_df.loc[(folders_df['folder_name'] == 'sub1') & (folders_df['superfolder_id'] == 1)]\n",
    "\n",
    "\n",
    "if (df.empty):\n",
    "    print('empty')\n",
    "\n",
    "else:\n",
    "    print(df)\n",
    "    print('\\n')\n",
    "    print(df.values[0][1])"
   ]
  },
  {
   "cell_type": "code",
   "execution_count": 73,
   "id": "c00e7143",
   "metadata": {},
   "outputs": [
    {
     "name": "stdout",
     "output_type": "stream",
     "text": [
      "[0 1 2]\n",
      "2\n"
     ]
    }
   ],
   "source": [
    "folders_df = pd.read_csv('folders.csv')\n",
    "\n",
    "df = folders_df.loc[(folders_df['user_id'] == 2113212877), 'folder_id'].values\n",
    "\n",
    "print(df)\n",
    "\n",
    "x = max(df)\n",
    "print(x)"
   ]
  },
  {
   "cell_type": "code",
   "execution_count": 13,
   "id": "abe249ce",
   "metadata": {},
   "outputs": [
    {
     "ename": "NameError",
     "evalue": "name 'df' is not defined",
     "output_type": "error",
     "traceback": [
      "\u001b[1;31m---------------------------------------------------------------------------\u001b[0m",
      "\u001b[1;31mNameError\u001b[0m                                 Traceback (most recent call last)",
      "Input \u001b[1;32mIn [13]\u001b[0m, in \u001b[0;36m<cell line: 9>\u001b[1;34m()\u001b[0m\n\u001b[0;32m      6\u001b[0m df \u001b[38;5;241m=\u001b[39m df\u001b[38;5;241m.\u001b[39mdrop(df[df\u001b[38;5;241m.\u001b[39mfolder_id \u001b[38;5;241m==\u001b[39m \u001b[38;5;241m1\u001b[39m]\u001b[38;5;241m.\u001b[39mindex)\n\u001b[0;32m      8\u001b[0m \u001b[38;5;28;01mdel\u001b[39;00m df\n\u001b[1;32m----> 9\u001b[0m \u001b[43mdf\u001b[49m\n",
      "\u001b[1;31mNameError\u001b[0m: name 'df' is not defined"
     ]
    }
   ],
   "source": [
    "folders_df = pd.read_csv('folders.csv')\n",
    "\n",
    "df = folders_df.loc[(folders_df['user_id'] == 2113212877)]\n",
    "\n",
    "\n",
    "df = df.drop(df[df.folder_id == 1].index)\n",
    "\n",
    "del df\n",
    "df"
   ]
  },
  {
   "cell_type": "code",
   "execution_count": 17,
   "id": "832f9f5e",
   "metadata": {},
   "outputs": [
    {
     "name": "stdout",
     "output_type": "stream",
     "text": [
      "   message_id     user_id  folder_id\n",
      "0        2689  2113212877          1\n",
      "1        2690  2113212877          1\n",
      "3        2692  2113212877          1\n",
      "   message_id     user_id  folder_id\n",
      "0        2689  2113212877          1\n",
      "1        2690  2113212877          1\n"
     ]
    }
   ],
   "source": [
    "print(msg_df)\n",
    "\n",
    "df = msg_df\n",
    "df = df.drop( df.query(\" `message_id`== 2692 \").index)\n",
    "\n",
    "print(df)"
   ]
  },
  {
   "cell_type": "code",
   "execution_count": null,
   "id": "8b2339d1",
   "metadata": {},
   "outputs": [],
   "source": []
  },
  {
   "cell_type": "code",
   "execution_count": null,
   "id": "b4bdb1b5",
   "metadata": {},
   "outputs": [],
   "source": []
  },
  {
   "cell_type": "code",
   "execution_count": null,
   "id": "097fa3ab",
   "metadata": {},
   "outputs": [],
   "source": []
  }
 ],
 "metadata": {
  "kernelspec": {
   "display_name": "Python 3 (ipykernel)",
   "language": "python",
   "name": "python3"
  },
  "language_info": {
   "codemirror_mode": {
    "name": "ipython",
    "version": 3
   },
   "file_extension": ".py",
   "mimetype": "text/x-python",
   "name": "python",
   "nbconvert_exporter": "python",
   "pygments_lexer": "ipython3",
   "version": "3.10.5"
  }
 },
 "nbformat": 4,
 "nbformat_minor": 5
}
