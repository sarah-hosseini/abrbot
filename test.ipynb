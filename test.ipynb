{
 "cells": [
  {
   "cell_type": "code",
   "execution_count": 21,
   "id": "1006a12a",
   "metadata": {},
   "outputs": [
    {
     "data": {
      "text/html": [
       "<div>\n",
       "<style scoped>\n",
       "    .dataframe tbody tr th:only-of-type {\n",
       "        vertical-align: middle;\n",
       "    }\n",
       "\n",
       "    .dataframe tbody tr th {\n",
       "        vertical-align: top;\n",
       "    }\n",
       "\n",
       "    .dataframe thead th {\n",
       "        text-align: right;\n",
       "    }\n",
       "</style>\n",
       "<table border=\"1\" class=\"dataframe\">\n",
       "  <thead>\n",
       "    <tr style=\"text-align: right;\">\n",
       "      <th></th>\n",
       "      <th>user_id</th>\n",
       "      <th>current_folder_id</th>\n",
       "    </tr>\n",
       "  </thead>\n",
       "  <tbody>\n",
       "    <tr>\n",
       "      <th>0</th>\n",
       "      <td>145</td>\n",
       "      <td>1</td>\n",
       "    </tr>\n",
       "    <tr>\n",
       "      <th>1</th>\n",
       "      <td>146</td>\n",
       "      <td>2</td>\n",
       "    </tr>\n",
       "    <tr>\n",
       "      <th>2</th>\n",
       "      <td>2113212877</td>\n",
       "      <td>0</td>\n",
       "    </tr>\n",
       "  </tbody>\n",
       "</table>\n",
       "</div>"
      ],
      "text/plain": [
       "      user_id  current_folder_id\n",
       "0         145                  1\n",
       "1         146                  2\n",
       "2  2113212877                  0"
      ]
     },
     "execution_count": 21,
     "metadata": {},
     "output_type": "execute_result"
    }
   ],
   "source": [
    "import pandas as pd\n",
    "usrs = pd.read_csv('user_data.csv')\n",
    "\n",
    "usrid = 146\n",
    "\n",
    "usrs"
   ]
  },
  {
   "cell_type": "code",
   "execution_count": 22,
   "id": "02b174da",
   "metadata": {},
   "outputs": [
    {
     "name": "stdout",
     "output_type": "stream",
     "text": [
      "2\n"
     ]
    }
   ],
   "source": [
    "last_dir_of_user = usrs.loc[usrs['user_id'] == usrid, 'current_folder_id']\n",
    "\n",
    "\n",
    "last_directory = last_dir_of_user.values[0] \n",
    "print(last_directory)"
   ]
  },
  {
   "cell_type": "code",
   "execution_count": 23,
   "id": "7e25b4cf",
   "metadata": {},
   "outputs": [
    {
     "data": {
      "text/html": [
       "<div>\n",
       "<style scoped>\n",
       "    .dataframe tbody tr th:only-of-type {\n",
       "        vertical-align: middle;\n",
       "    }\n",
       "\n",
       "    .dataframe tbody tr th {\n",
       "        vertical-align: top;\n",
       "    }\n",
       "\n",
       "    .dataframe thead th {\n",
       "        text-align: right;\n",
       "    }\n",
       "</style>\n",
       "<table border=\"1\" class=\"dataframe\">\n",
       "  <thead>\n",
       "    <tr style=\"text-align: right;\">\n",
       "      <th></th>\n",
       "      <th>message_id</th>\n",
       "      <th>user_id</th>\n",
       "      <th>folder_id</th>\n",
       "    </tr>\n",
       "  </thead>\n",
       "  <tbody>\n",
       "    <tr>\n",
       "      <th>1</th>\n",
       "      <td>333</td>\n",
       "      <td>146</td>\n",
       "      <td>2</td>\n",
       "    </tr>\n",
       "    <tr>\n",
       "      <th>2</th>\n",
       "      <td>456</td>\n",
       "      <td>146</td>\n",
       "      <td>1</td>\n",
       "    </tr>\n",
       "    <tr>\n",
       "      <th>3</th>\n",
       "      <td>474</td>\n",
       "      <td>146</td>\n",
       "      <td>0</td>\n",
       "    </tr>\n",
       "  </tbody>\n",
       "</table>\n",
       "</div>"
      ],
      "text/plain": [
       "   message_id  user_id  folder_id\n",
       "1         333      146          2\n",
       "2         456      146          1\n",
       "3         474      146          0"
      ]
     },
     "execution_count": 23,
     "metadata": {},
     "output_type": "execute_result"
    }
   ],
   "source": [
    "msg_df = pd.read_csv('saved_messages_data.csv')\n",
    "folders_df = pd.read_csv('folders.csv')\n",
    "\n",
    "saved_msgs = msg_df.loc[msg_df['user_id'] == usrid]\n",
    "folders = folders_df.loc[folders_df['user_id'] == usrid]\n",
    "\n",
    "saved_msgs"
   ]
  },
  {
   "cell_type": "code",
   "execution_count": 32,
   "id": "b70999c5",
   "metadata": {},
   "outputs": [
    {
     "data": {
      "text/html": [
       "<div>\n",
       "<style scoped>\n",
       "    .dataframe tbody tr th:only-of-type {\n",
       "        vertical-align: middle;\n",
       "    }\n",
       "\n",
       "    .dataframe tbody tr th {\n",
       "        vertical-align: top;\n",
       "    }\n",
       "\n",
       "    .dataframe thead th {\n",
       "        text-align: right;\n",
       "    }\n",
       "</style>\n",
       "<table border=\"1\" class=\"dataframe\">\n",
       "  <thead>\n",
       "    <tr style=\"text-align: right;\">\n",
       "      <th></th>\n",
       "      <th>user_id</th>\n",
       "      <th>folder_id</th>\n",
       "      <th>folder_name</th>\n",
       "      <th>superfolder_id</th>\n",
       "    </tr>\n",
       "  </thead>\n",
       "  <tbody>\n",
       "    <tr>\n",
       "      <th>0</th>\n",
       "      <td>146</td>\n",
       "      <td>0</td>\n",
       "      <td>main</td>\n",
       "      <td>NaN</td>\n",
       "    </tr>\n",
       "    <tr>\n",
       "      <th>1</th>\n",
       "      <td>145</td>\n",
       "      <td>0</td>\n",
       "      <td>user space</td>\n",
       "      <td>NaN</td>\n",
       "    </tr>\n",
       "    <tr>\n",
       "      <th>2</th>\n",
       "      <td>145</td>\n",
       "      <td>1</td>\n",
       "      <td>sub1</td>\n",
       "      <td>0.0</td>\n",
       "    </tr>\n",
       "    <tr>\n",
       "      <th>3</th>\n",
       "      <td>145</td>\n",
       "      <td>2</td>\n",
       "      <td>sub2</td>\n",
       "      <td>0.0</td>\n",
       "    </tr>\n",
       "    <tr>\n",
       "      <th>4</th>\n",
       "      <td>146</td>\n",
       "      <td>1</td>\n",
       "      <td>1461mm</td>\n",
       "      <td>2.0</td>\n",
       "    </tr>\n",
       "    <tr>\n",
       "      <th>5</th>\n",
       "      <td>146</td>\n",
       "      <td>2</td>\n",
       "      <td>1462ss</td>\n",
       "      <td>0.0</td>\n",
       "    </tr>\n",
       "    <tr>\n",
       "      <th>6</th>\n",
       "      <td>146</td>\n",
       "      <td>3</td>\n",
       "      <td>hi im 3</td>\n",
       "      <td>2.0</td>\n",
       "    </tr>\n",
       "    <tr>\n",
       "      <th>7</th>\n",
       "      <td>2113212877</td>\n",
       "      <td>0</td>\n",
       "      <td>main</td>\n",
       "      <td>NaN</td>\n",
       "    </tr>\n",
       "    <tr>\n",
       "      <th>8</th>\n",
       "      <td>2113212877</td>\n",
       "      <td>1</td>\n",
       "      <td>sub1</td>\n",
       "      <td>0.0</td>\n",
       "    </tr>\n",
       "    <tr>\n",
       "      <th>9</th>\n",
       "      <td>2113212877</td>\n",
       "      <td>2</td>\n",
       "      <td>sub1</td>\n",
       "      <td>1.0</td>\n",
       "    </tr>\n",
       "  </tbody>\n",
       "</table>\n",
       "</div>"
      ],
      "text/plain": [
       "      user_id  folder_id folder_name  superfolder_id\n",
       "0         146          0        main             NaN\n",
       "1         145          0  user space             NaN\n",
       "2         145          1        sub1             0.0\n",
       "3         145          2        sub2             0.0\n",
       "4         146          1      1461mm             2.0\n",
       "5         146          2      1462ss             0.0\n",
       "6         146          3     hi im 3             2.0\n",
       "7  2113212877          0        main             NaN\n",
       "8  2113212877          1        sub1             0.0\n",
       "9  2113212877          2        sub1             1.0"
      ]
     },
     "execution_count": 32,
     "metadata": {},
     "output_type": "execute_result"
    }
   ],
   "source": [
    "folders_df.head(20)"
   ]
  },
  {
   "cell_type": "code",
   "execution_count": 29,
   "id": "f1c09171",
   "metadata": {},
   "outputs": [
    {
     "name": "stdout",
     "output_type": "stream",
     "text": [
      "333\n"
     ]
    }
   ],
   "source": [
    "folder_content_id = list(saved_msgs.loc[saved_msgs['folder_id'] == last_directory]['message_id'])\n",
    "folder_content_id\n",
    "\n",
    "for i in folder_content_id:\n",
    "    print(i)"
   ]
  },
  {
   "cell_type": "code",
   "execution_count": 30,
   "id": "b8fe9a09",
   "metadata": {},
   "outputs": [
    {
     "name": "stdout",
     "output_type": "stream",
     "text": [
      "1461mm\n",
      "hi im 3\n"
     ]
    }
   ],
   "source": [
    "subfolders = list(folders.loc[folders['superfolder_id'] == last_directory]['folder_id'])\n",
    "\n",
    "subfolders\n",
    "for i in subfolders:\n",
    "    folder_name = folders.loc[folders['folder_id'] == i, 'folder_name'].values[0]\n",
    "    print(folder_name)"
   ]
  },
  {
   "cell_type": "code",
   "execution_count": 70,
   "id": "df58a378",
   "metadata": {},
   "outputs": [
    {
     "name": "stdout",
     "output_type": "stream",
     "text": [
      "      user_id  folder_id folder_name  superfolder_id\n",
      "9  2113212877          2        sub1             1.0\n",
      "\n",
      "\n",
      "2\n"
     ]
    }
   ],
   "source": [
    "folders_df = pd.read_csv('folders.csv')\n",
    "\n",
    "df = folders_df.loc[(folders_df['folder_name'] == 'sub1') & (folders_df['superfolder_id'] == 1)]\n",
    "\n",
    "\n",
    "if (df.empty):\n",
    "    print('empty')\n",
    "\n",
    "else:\n",
    "    print(df)\n",
    "    print('\\n')\n",
    "    print(df.values[0][1])"
   ]
  },
  {
   "cell_type": "code",
   "execution_count": 73,
   "id": "c00e7143",
   "metadata": {},
   "outputs": [
    {
     "name": "stdout",
     "output_type": "stream",
     "text": [
      "[0 1 2]\n",
      "2\n"
     ]
    }
   ],
   "source": [
    "folders_df = pd.read_csv('folders.csv')\n",
    "\n",
    "df = folders_df.loc[(folders_df['user_id'] == 2113212877), 'folder_id'].values\n",
    "\n",
    "print(df)\n",
    "\n",
    "x = max(df)\n",
    "print(x)"
   ]
  },
  {
   "cell_type": "code",
   "execution_count": null,
   "id": "abe249ce",
   "metadata": {},
   "outputs": [],
   "source": []
  }
 ],
 "metadata": {
  "kernelspec": {
   "display_name": "Python 3 (ipykernel)",
   "language": "python",
   "name": "python3"
  },
  "language_info": {
   "codemirror_mode": {
    "name": "ipython",
    "version": 3
   },
   "file_extension": ".py",
   "mimetype": "text/x-python",
   "name": "python",
   "nbconvert_exporter": "python",
   "pygments_lexer": "ipython3",
   "version": "3.10.5"
  }
 },
 "nbformat": 4,
 "nbformat_minor": 5
}
